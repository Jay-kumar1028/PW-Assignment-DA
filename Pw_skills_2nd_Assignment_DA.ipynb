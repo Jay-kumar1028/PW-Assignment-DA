{
  "nbformat": 4,
  "nbformat_minor": 0,
  "metadata": {
    "colab": {
      "provenance": []
    },
    "kernelspec": {
      "name": "python3",
      "display_name": "Python 3"
    },
    "language_info": {
      "name": "python"
    }
  },
  "cells": [
    {
      "cell_type": "markdown",
      "source": [
        "# **Data Types and Structures Questions**\n",
        "\n",
        "---\n",
        "\n"
      ],
      "metadata": {
        "id": "Tb1soDdmv81n"
      }
    },
    {
      "cell_type": "markdown",
      "source": [
        "\n",
        "\n",
        "**1. What are data structures, and why are they important?**\n",
        "\n",
        "- Data structure is a way of organizing and storing data so that it can be accessed and manipulated effectively.\n",
        "- They are important because they make programs faster, save memory, and help solve problems easily.\n",
        "\n",
        "**2. Explain the difference between mutable and immutable data types with examples.**\n",
        "\n",
        "- Mutable: can be changed, like lists, sets, and dictionaries.\n",
        "\n",
        "- Immutable: cannot be changed, like strings and tuples.\n",
        "\n",
        "**3. What are the main differences between lists and tuples in Python?**\n",
        "\n",
        "- Lists can be changed and are written with [].\n",
        "\n",
        "- Tuples cannot be changed and are written with ().\n",
        "\n",
        "**4. Describe how dictionaries store data.**\n",
        "\n",
        "- Dictionaries store information as key-value pairs.\n",
        "\n",
        "- They use a hash table behind the scenes for fast access.\n",
        "\n",
        "**5. Why might you use a set instead of a list in Python?**\n",
        "\n",
        "- Sets automatically remove duplicates.\n",
        "\n",
        "- They let you check if an item exists faster than a list.\n",
        "\n",
        "**6. What is a string in Python, and how is it different from a list?**\n",
        "\n",
        "- A string is a sequence of characters and cannot be changed.\n",
        "\n",
        "- A list is a collection of items that can be changed.\n",
        "\n",
        "**7. How do tuples ensure data integrity in Python?**\n",
        "\n",
        "- Tuples cannot be modified after creation.\n",
        "\n",
        "- This keeps the data safe from accidental changes.\n",
        "\n",
        "**8. What is a hash table, and how does it relate to dictionaries in Python?**\n",
        "\n",
        "- A hash table is a structure that matches keys to values quickly.\n",
        "\n",
        "- Python dictionaries use hash tables to store data efficiently.\n",
        "\n",
        "**9. Can lists contain different data types in Python?**\n",
        "\n",
        "- Yes, a list can hold numbers, strings, or even other lists together.\n",
        "\n",
        "**10. Explain why strings are immutable in Python.**\n",
        "\n",
        "- Strings can’t be changed so they stay safe and consistent.\n",
        "\n",
        "- They are also useful as dictionary keys and save memory.\n",
        "\n",
        "**11. What advantages do dictionaries offer over lists for certain tasks?**\n",
        "\n",
        "- Dictionaries let you find values quickly using keys.\n",
        "\n",
        "- Lists need to search item by item, which is slower.\n",
        "\n",
        "**12. Describe a scenario where using a tuple would be preferable over a list.**\n",
        "\n",
        "- When the data should never change, like storing coordinates (10, 20) or dates.\n",
        "\n",
        "**13. How do sets handle duplicate values in Python?**\n",
        "\n",
        "- Sets automatically remove duplicate items.\n",
        "\n",
        "- Only unique items are kept.\n",
        "\n",
        "**14. How does the \"in\" keyword work differently for lists and dictionaries?**\n",
        "\n",
        "- In lists → checks if a value exists.\n",
        "\n",
        "- In dictionaries → checks if a key exists.\n",
        "\n",
        "**15. Can you modify the elements of a tuple? Explain why or why not.**\n",
        "\n",
        "- No, tuples cannot be changed once created.\n",
        "\n",
        "- This makes the data safe and unchangeable.\n",
        "\n",
        "**16. What is a nested dictionary, and give an example of its use case?**\n",
        "\n",
        "- A dictionary inside another dictionary.\n",
        "\n",
        "- Example: {\"name\": \"Priti\", \"marks\": {\"math\": 90, \"science\": 85}}.\n",
        "\n",
        "**17. Describe the time complexity of accessing elements in a dictionary?**\n",
        "\n",
        "- Accessing an element is usually very fast (O(1)).\n",
        "\n",
        "**18. in what situations are lists preferred over dictionaries?**\n",
        "\n",
        "- When you need ordered, simple data.\n",
        "- When key-value pairs are not necessary.\n",
        "\n",
        "**19. Why are dictionaries considered unordered, and how does that affect data retrieval?**\n",
        "\n",
        "- Dictionaries store data by key, not by position.\n",
        "\n",
        "- You access values using keys, not order.\n",
        "\n",
        "**20. Explain the difference between a list and a dictionary in terms of data retrieval?**.\n",
        "\n",
        "- Lists → access by position (index).\n",
        "\n",
        "- Dictionaries → access by key (name).\n"
      ],
      "metadata": {
        "id": "uRsdr0YvsIfI"
      }
    },
    {
      "cell_type": "markdown",
      "source": [
        "# **Practical Questions**"
      ],
      "metadata": {
        "id": "8cKjzSX4w5cA"
      }
    },
    {
      "cell_type": "markdown",
      "source": [
        "**1. Write a code to create a string with your name and print it.**"
      ],
      "metadata": {
        "id": "mRrn3SFlwFIJ"
      }
    },
    {
      "cell_type": "code",
      "source": [
        "String = \"jay\"\n",
        "print(String)"
      ],
      "metadata": {
        "colab": {
          "base_uri": "https://localhost:8080/"
        },
        "id": "tV0YoE1AwSb6",
        "outputId": "60a2d34f-92ca-4818-c1a4-50db614c4585"
      },
      "execution_count": null,
      "outputs": [
        {
          "output_type": "stream",
          "name": "stdout",
          "text": [
            "jay\n"
          ]
        }
      ]
    },
    {
      "cell_type": "markdown",
      "source": [
        "**2. Write a code to find the length of the string \"Hello World\".**"
      ],
      "metadata": {
        "id": "RnD_p3w3xXS0"
      }
    },
    {
      "cell_type": "code",
      "source": [
        "String = \"Hello World\"\n",
        "Length = len(String)\n",
        "print(\"Length of the string: \",Length )"
      ],
      "metadata": {
        "colab": {
          "base_uri": "https://localhost:8080/"
        },
        "id": "E_a0MvbMxff_",
        "outputId": "1ba7611d-e2db-404a-d7a1-37413c7d12dd"
      },
      "execution_count": null,
      "outputs": [
        {
          "output_type": "stream",
          "name": "stdout",
          "text": [
            "Length of the string:  11\n"
          ]
        }
      ]
    },
    {
      "cell_type": "markdown",
      "source": [
        "**3. Write a code to slice the first 3 characters from the string \"Python Programming\".**"
      ],
      "metadata": {
        "id": "SfdaEMGfxpE_"
      }
    },
    {
      "cell_type": "code",
      "source": [
        "String = \"Python Programming\"\n",
        "String [: 3]"
      ],
      "metadata": {
        "colab": {
          "base_uri": "https://localhost:8080/",
          "height": 36
        },
        "id": "9NcBm3z1x6hz",
        "outputId": "039a902b-a9e4-4157-97bb-a73d18c1c7af"
      },
      "execution_count": null,
      "outputs": [
        {
          "output_type": "execute_result",
          "data": {
            "text/plain": [
              "'Pyt'"
            ],
            "application/vnd.google.colaboratory.intrinsic+json": {
              "type": "string"
            }
          },
          "metadata": {},
          "execution_count": 3
        }
      ]
    },
    {
      "cell_type": "markdown",
      "source": [
        "**4. Write a code to convert the string \"hello\" to uppercase.**"
      ],
      "metadata": {
        "id": "zrJpEIp0yEvv"
      }
    },
    {
      "cell_type": "code",
      "source": [
        "String = \"hello\"\n",
        "String.upper()"
      ],
      "metadata": {
        "colab": {
          "base_uri": "https://localhost:8080/",
          "height": 36
        },
        "id": "i9cp3uf2yL3n",
        "outputId": "535a032f-375d-4efa-b012-e94955660183"
      },
      "execution_count": null,
      "outputs": [
        {
          "output_type": "execute_result",
          "data": {
            "text/plain": [
              "'HELLO'"
            ],
            "application/vnd.google.colaboratory.intrinsic+json": {
              "type": "string"
            }
          },
          "metadata": {},
          "execution_count": 4
        }
      ]
    },
    {
      "cell_type": "markdown",
      "source": [
        "**5. Write a code to replace the word \"apple\" with \"orange\" in the string \"I like apple\"**"
      ],
      "metadata": {
        "id": "AKJBmH4RyVQc"
      }
    },
    {
      "cell_type": "code",
      "source": [
        "String = \"I like apple\"\n",
        "String.replace(\"apple\", \"orange\")"
      ],
      "metadata": {
        "colab": {
          "base_uri": "https://localhost:8080/",
          "height": 36
        },
        "id": "NqpryVz8yYBj",
        "outputId": "9cbb4869-27c9-43cc-bbb1-7fb7a172381a"
      },
      "execution_count": null,
      "outputs": [
        {
          "output_type": "execute_result",
          "data": {
            "text/plain": [
              "'I like orange'"
            ],
            "application/vnd.google.colaboratory.intrinsic+json": {
              "type": "string"
            }
          },
          "metadata": {},
          "execution_count": 5
        }
      ]
    },
    {
      "cell_type": "markdown",
      "source": [
        "**6. Write a code to create a list with numbers 1 to 5 and print it.**"
      ],
      "metadata": {
        "id": "1PzXL1uZydso"
      }
    },
    {
      "cell_type": "code",
      "source": [
        "List = [1, 2, 3, 4, 5]\n",
        "print(\"List: \",List)"
      ],
      "metadata": {
        "colab": {
          "base_uri": "https://localhost:8080/"
        },
        "id": "5aa0ffbQyloN",
        "outputId": "0e1b79e8-e3ad-4ae6-ade9-7b230fe7a316"
      },
      "execution_count": null,
      "outputs": [
        {
          "output_type": "stream",
          "name": "stdout",
          "text": [
            "List:  [1, 2, 3, 4, 5]\n"
          ]
        }
      ]
    },
    {
      "cell_type": "markdown",
      "source": [
        "**7. Write a code to append the number 10 to the list [1, 2, 3, 4].**"
      ],
      "metadata": {
        "id": "QVyXZ9nBys35"
      }
    },
    {
      "cell_type": "code",
      "source": [
        "List = [1, 2, 3, 4]\n",
        "List.append(10)\n",
        "print(\"List: \",List)"
      ],
      "metadata": {
        "colab": {
          "base_uri": "https://localhost:8080/"
        },
        "id": "lK_C09H-y08q",
        "outputId": "3a73b203-1229-49dc-9fd1-789bf81f1bdd"
      },
      "execution_count": null,
      "outputs": [
        {
          "output_type": "stream",
          "name": "stdout",
          "text": [
            "List:  [1, 2, 3, 4, 10]\n"
          ]
        }
      ]
    },
    {
      "cell_type": "markdown",
      "source": [
        "**8. Write a code to remove the number 3 from the list [1, 2, 3, 4, 5].**"
      ],
      "metadata": {
        "id": "NQf5yNLay-wU"
      }
    },
    {
      "cell_type": "code",
      "source": [
        "List = [1, 2, 3, 4, 5]\n",
        "List.remove(3)\n",
        "print(\"List: \",List)\n"
      ],
      "metadata": {
        "colab": {
          "base_uri": "https://localhost:8080/"
        },
        "id": "nEpbb_8pzBkE",
        "outputId": "9d55081d-10cc-4231-deb0-fa89d87388b0"
      },
      "execution_count": null,
      "outputs": [
        {
          "output_type": "stream",
          "name": "stdout",
          "text": [
            "List:  [1, 2, 4, 5]\n"
          ]
        }
      ]
    },
    {
      "cell_type": "markdown",
      "source": [
        "**9. Write a code to access the second element in the list ['a', 'b', 'c', 'd].**"
      ],
      "metadata": {
        "id": "LQ63o9QQzMKc"
      }
    },
    {
      "cell_type": "code",
      "source": [
        "List = ['a','b','c','d']\n",
        "List[1]"
      ],
      "metadata": {
        "colab": {
          "base_uri": "https://localhost:8080/",
          "height": 36
        },
        "id": "wIM6AiXOzPY1",
        "outputId": "3ef13a25-9984-4ab8-8703-6b3bc9219e34"
      },
      "execution_count": null,
      "outputs": [
        {
          "output_type": "execute_result",
          "data": {
            "text/plain": [
              "'b'"
            ],
            "application/vnd.google.colaboratory.intrinsic+json": {
              "type": "string"
            }
          },
          "metadata": {},
          "execution_count": 9
        }
      ]
    },
    {
      "cell_type": "markdown",
      "source": [
        "**10. Write a code to reverse the list [10, 20, 30, 40, 50].**"
      ],
      "metadata": {
        "id": "9IX6ZXr-zdtL"
      }
    },
    {
      "cell_type": "code",
      "source": [
        "List = [10, 20, 30, 40, 50]\n",
        "Reverse = List[::-1]\n",
        "print(\"Reverse List:\", Reverse)"
      ],
      "metadata": {
        "colab": {
          "base_uri": "https://localhost:8080/"
        },
        "id": "u9cATw05zgkG",
        "outputId": "d83d1fbb-e53c-49c1-b747-52da7b4003e4"
      },
      "execution_count": null,
      "outputs": [
        {
          "output_type": "stream",
          "name": "stdout",
          "text": [
            "Reverse List: [50, 40, 30, 20, 10]\n"
          ]
        }
      ]
    },
    {
      "cell_type": "markdown",
      "source": [
        "**11. Write a code to create a tuple with the elements 100, 200, 300 and print it.**"
      ],
      "metadata": {
        "id": "uSTP-spEzqhY"
      }
    },
    {
      "cell_type": "code",
      "source": [
        "Tuple = (100, 200, 300)\n",
        "print(\"Tuple:\", Tuple)\n"
      ],
      "metadata": {
        "colab": {
          "base_uri": "https://localhost:8080/"
        },
        "id": "fJW1m6O3ztSH",
        "outputId": "411a9f33-f6cc-4e53-9385-6aa77175a265"
      },
      "execution_count": null,
      "outputs": [
        {
          "output_type": "stream",
          "name": "stdout",
          "text": [
            "Tuple: (100, 200, 300)\n"
          ]
        }
      ]
    },
    {
      "cell_type": "markdown",
      "source": [
        "**12. Write a code to access the second-to-last element of the tuple ('red', 'green', 'blue', 'yellow')**"
      ],
      "metadata": {
        "id": "dDu7B3PYz0Of"
      }
    },
    {
      "cell_type": "code",
      "source": [
        "Tuple = ('red', 'green', 'blue', 'yellow')\n",
        "Tuple[-2]"
      ],
      "metadata": {
        "colab": {
          "base_uri": "https://localhost:8080/",
          "height": 36
        },
        "id": "0o4e14FOz61A",
        "outputId": "57283940-0f8b-4dba-98b9-d04fe8b76482"
      },
      "execution_count": null,
      "outputs": [
        {
          "output_type": "execute_result",
          "data": {
            "text/plain": [
              "'blue'"
            ],
            "application/vnd.google.colaboratory.intrinsic+json": {
              "type": "string"
            }
          },
          "metadata": {},
          "execution_count": 12
        }
      ]
    },
    {
      "cell_type": "markdown",
      "source": [
        "**13. Write a code to find the minimum number in the tuple (10, 20, 5, 15).**"
      ],
      "metadata": {
        "id": "B2liOCEF012X"
      }
    },
    {
      "cell_type": "code",
      "source": [
        "Tuple = (10, 20, 5, 15)\n",
        "min([10, 20, 5, 15])"
      ],
      "metadata": {
        "colab": {
          "base_uri": "https://localhost:8080/"
        },
        "id": "j8GV2x_00-ot",
        "outputId": "bcaed4d2-82b6-4bf7-e4c7-d8fa9b8232d1"
      },
      "execution_count": null,
      "outputs": [
        {
          "output_type": "execute_result",
          "data": {
            "text/plain": [
              "5"
            ]
          },
          "metadata": {},
          "execution_count": 13
        }
      ]
    },
    {
      "cell_type": "markdown",
      "source": [
        "**14. Write a code to find the index of the element \"cat\" in the tuple (dog, 'cat, rabbit).**"
      ],
      "metadata": {
        "id": "ULdd6dqA1NQD"
      }
    },
    {
      "cell_type": "code",
      "source": [
        "Tuple = ('dog', 'cat', 'rabbit')\n",
        "print(\"Index of the element 'cat': \",Tuple.index(\"cat\"))"
      ],
      "metadata": {
        "colab": {
          "base_uri": "https://localhost:8080/"
        },
        "id": "XqfeiDtp1Rde",
        "outputId": "05d39e9f-4e3c-4515-92bd-c7beccad6b26"
      },
      "execution_count": null,
      "outputs": [
        {
          "output_type": "stream",
          "name": "stdout",
          "text": [
            "Index of the element 'cat':  1\n"
          ]
        }
      ]
    },
    {
      "cell_type": "markdown",
      "source": [
        "**15. Write a code to create a tuple containing three different fruits and check if \"kiwi\" is in it.**"
      ],
      "metadata": {
        "id": "Hiqw4vhY1Yu_"
      }
    },
    {
      "cell_type": "code",
      "source": [
        "Tuple = (\"apple\", \"banana\", \"kiwi\")\n",
        "if \"kiwi\" in Tuple:\n",
        "    print(\" Yes'kiwi' is in it\")\n",
        "else:\n",
        "    print(\" No 'kiwi' is in it\")"
      ],
      "metadata": {
        "colab": {
          "base_uri": "https://localhost:8080/"
        },
        "id": "F26KT-7S1ekw",
        "outputId": "ae18b00a-aee4-457c-8324-e46430b53a0b"
      },
      "execution_count": null,
      "outputs": [
        {
          "output_type": "stream",
          "name": "stdout",
          "text": [
            " Yes'kiwi' is in it\n"
          ]
        }
      ]
    },
    {
      "cell_type": "markdown",
      "source": [
        "**16. Write a code to create a set with the elements 'a', 'b', 'c' and print it.**"
      ],
      "metadata": {
        "id": "IpADq-rH1rCC"
      }
    },
    {
      "cell_type": "code",
      "source": [
        "Set = {'a', 'b', 'c'}\n",
        "print(type(Set))\n",
        "print(\"Set:\",Set)"
      ],
      "metadata": {
        "colab": {
          "base_uri": "https://localhost:8080/"
        },
        "id": "1fLiavaU1t27",
        "outputId": "0413bde1-6cc1-4b94-a8b9-cb9c2c435c82"
      },
      "execution_count": null,
      "outputs": [
        {
          "output_type": "stream",
          "name": "stdout",
          "text": [
            "<class 'set'>\n",
            "Set: {'c', 'a', 'b'}\n"
          ]
        }
      ]
    },
    {
      "cell_type": "markdown",
      "source": [
        "**17. Write a code to clear all elements from the set {1, 2, 3, 4, 5}**."
      ],
      "metadata": {
        "id": "TUP8qlRX2HcA"
      }
    },
    {
      "cell_type": "code",
      "source": [
        "Set = {1, 2, 3, 4, 5}\n",
        "Set.clear()\n",
        "print(\"Set:\",Set)"
      ],
      "metadata": {
        "colab": {
          "base_uri": "https://localhost:8080/"
        },
        "id": "GNrYKM4L2Odv",
        "outputId": "0be956e8-6b81-4a61-df8a-5b9c78b4cd06"
      },
      "execution_count": null,
      "outputs": [
        {
          "output_type": "stream",
          "name": "stdout",
          "text": [
            "Set: set()\n"
          ]
        }
      ]
    },
    {
      "cell_type": "markdown",
      "source": [
        "**18. Write a code to remove the element 4 from the set {1, 2, 3, 4}.**"
      ],
      "metadata": {
        "id": "LTeWdh572TGj"
      }
    },
    {
      "cell_type": "code",
      "source": [
        "Set = {1, 2, 3, 4}\n",
        "Set.remove(4)\n",
        "print(\"Set:\",Set)"
      ],
      "metadata": {
        "colab": {
          "base_uri": "https://localhost:8080/"
        },
        "id": "J1fRZVKs2bE0",
        "outputId": "f58c2161-7763-42cc-dca5-4fbaeb64c80e"
      },
      "execution_count": null,
      "outputs": [
        {
          "output_type": "stream",
          "name": "stdout",
          "text": [
            "Set: {1, 2, 3}\n"
          ]
        }
      ]
    },
    {
      "cell_type": "markdown",
      "source": [
        "**19. Write a code to find the union of two sets {1, 2, 3} and {3, 4, 5}.**"
      ],
      "metadata": {
        "id": "8A8Jn1bQ2iUQ"
      }
    },
    {
      "cell_type": "code",
      "source": [
        "Set1 = {1, 2, 3}\n",
        "Set2 = {3, 4, 5}\n",
        "Union = {1, 2, 3}.union({3, 4,5})\n",
        "print(\"Union:\", Union)"
      ],
      "metadata": {
        "colab": {
          "base_uri": "https://localhost:8080/"
        },
        "id": "bi4DZ_OS2pYT",
        "outputId": "903ae512-5f76-465e-c5eb-69dd605244ef"
      },
      "execution_count": null,
      "outputs": [
        {
          "output_type": "stream",
          "name": "stdout",
          "text": [
            "Union: {1, 2, 3, 4, 5}\n"
          ]
        }
      ]
    },
    {
      "cell_type": "markdown",
      "source": [
        "**20. Write a code to find the intersection of two sets {1, 2, 3} and {2, 3, 4}.**"
      ],
      "metadata": {
        "id": "Ap-90fER2vuv"
      }
    },
    {
      "cell_type": "code",
      "source": [
        "Set1 = {1, 2, 3}\n",
        "Set2 = {3, 4, 5}\n",
        "Intersection = {1, 2, 3}.intersection({3, 4,5})\n",
        "print(\"Intersection:\", Intersection)"
      ],
      "metadata": {
        "colab": {
          "base_uri": "https://localhost:8080/"
        },
        "id": "p3yfRwDz26dr",
        "outputId": "1fa5dd3f-c5a9-43ef-e817-ad8ca3950d94"
      },
      "execution_count": null,
      "outputs": [
        {
          "output_type": "stream",
          "name": "stdout",
          "text": [
            "Intersection: {3}\n"
          ]
        }
      ]
    },
    {
      "cell_type": "markdown",
      "source": [
        "**21. Write a code to create a dictionary with the keys \"name\", \"age\", and \"city\", and print it.**"
      ],
      "metadata": {
        "id": "uVsbhAX42_Bz"
      }
    },
    {
      "cell_type": "code",
      "source": [
        "Dictionary = {\"name\": \"Priti\" , \"age\":24, \"city\": \"Bhopal\"}\n",
        "print(type(Dictionary))\n",
        "Dictionary.keys()"
      ],
      "metadata": {
        "colab": {
          "base_uri": "https://localhost:8080/"
        },
        "id": "FsCUgss_3B-9",
        "outputId": "f1b0b0aa-694f-477d-d047-3e928cc5676d"
      },
      "execution_count": null,
      "outputs": [
        {
          "output_type": "stream",
          "name": "stdout",
          "text": [
            "<class 'dict'>\n"
          ]
        },
        {
          "output_type": "execute_result",
          "data": {
            "text/plain": [
              "dict_keys(['name', 'age', 'city'])"
            ]
          },
          "metadata": {},
          "execution_count": 23
        }
      ]
    },
    {
      "cell_type": "markdown",
      "source": [
        "**22. Write a code to add a new key-value pair \"country\": \"USA\" to the dictionary {'name': 'John', 'age': 25}.**"
      ],
      "metadata": {
        "id": "RxynnZXc3N_X"
      }
    },
    {
      "cell_type": "code",
      "source": [
        "Dictionary = {'name': 'John', 'age': 25}\n",
        "Dictionary[\"country\"] = \"USA\"\n",
        "print(Dictionary)"
      ],
      "metadata": {
        "colab": {
          "base_uri": "https://localhost:8080/"
        },
        "id": "ozc_O5os3Qt8",
        "outputId": "f9e2724f-e008-45a8-ae72-697d38adea8a"
      },
      "execution_count": null,
      "outputs": [
        {
          "output_type": "stream",
          "name": "stdout",
          "text": [
            "{'name': 'John', 'age': 25, 'country': 'USA'}\n"
          ]
        }
      ]
    },
    {
      "cell_type": "markdown",
      "source": [
        "**23. Write a code to access the value associated with the key \"name\" in the dictionary {'name': 'Alice', 'age': 30}.**"
      ],
      "metadata": {
        "id": "CxR_Pqo23WTm"
      }
    },
    {
      "cell_type": "code",
      "source": [
        "Dictionary = {'name': 'Alice', 'age': 30}\n",
        "Dictionary[\"name\"]"
      ],
      "metadata": {
        "colab": {
          "base_uri": "https://localhost:8080/",
          "height": 36
        },
        "id": "RxUVwpJ73f_Z",
        "outputId": "6c648e79-0cb1-4467-9ddd-ce5c4eaae275"
      },
      "execution_count": null,
      "outputs": [
        {
          "output_type": "execute_result",
          "data": {
            "text/plain": [
              "'Alice'"
            ],
            "application/vnd.google.colaboratory.intrinsic+json": {
              "type": "string"
            }
          },
          "metadata": {},
          "execution_count": 25
        }
      ]
    },
    {
      "cell_type": "markdown",
      "source": [
        "**24. Write a code to remove the key \"age\" from the dictionary {'name': 'Bob', 'age': 22, city': 'New York'}.**"
      ],
      "metadata": {
        "id": "1nMpWwZE3mj7"
      }
    },
    {
      "cell_type": "code",
      "source": [
        "Dictionary = {'name': 'Bob', 'age': 22, 'city': 'New York'}\n",
        "Dictionary.pop(\"age\")\n",
        "print(\"Dictionary:\",Dictionary)"
      ],
      "metadata": {
        "colab": {
          "base_uri": "https://localhost:8080/"
        },
        "id": "YdFDt0ae3tg4",
        "outputId": "fa162a0f-33e2-4fe9-f5a3-3c4e3fc297bb"
      },
      "execution_count": null,
      "outputs": [
        {
          "output_type": "stream",
          "name": "stdout",
          "text": [
            "Dictionary: {'name': 'Bob', 'city': 'New York'}\n"
          ]
        }
      ]
    },
    {
      "cell_type": "markdown",
      "source": [
        "**25. Write a code to check if the key \"city\" exists in the dictionary {'name': 'Alice', 'city': 'Paris'}.**"
      ],
      "metadata": {
        "id": "ymBYV--m37Y-"
      }
    },
    {
      "cell_type": "code",
      "source": [
        "Dictionary = {'name': 'Alice', 'city': 'Paris'}\n",
        "key = \"city\"\n",
        "if key in Dictionary:\n",
        "    print(\"Key 'city' exists in the dictionary\")\n",
        "else:\n",
        "    print(\"key 'city' not exists in the dictionary\")"
      ],
      "metadata": {
        "colab": {
          "base_uri": "https://localhost:8080/"
        },
        "id": "Tuvvqmpy3-MP",
        "outputId": "f7091036-bd69-4c88-f10e-7d31d928b798"
      },
      "execution_count": null,
      "outputs": [
        {
          "output_type": "stream",
          "name": "stdout",
          "text": [
            "Key 'city' exists in the dictionary\n"
          ]
        }
      ]
    },
    {
      "cell_type": "markdown",
      "source": [
        "**26. Write a code to create a list, a tuple, and a dictionary, and print them all.**"
      ],
      "metadata": {
        "id": "i9nLkgrL4E7X"
      }
    },
    {
      "cell_type": "code",
      "source": [
        "List = [1, 2, 4.5, 3+4j, True, \"jay\"]\n",
        "Tuple = (\"Ajay\", \"Rahul\", True, \"jay\")\n",
        "Dictionary = {\"Name\": \"jay\", \"Age\" : 27}\n",
        "print(f\"\"\"\n",
        "List: {List}\n",
        "Tuple: {Tuple}\n",
        "Dictionary: {Dictionary}\n",
        "\"\"\")"
      ],
      "metadata": {
        "colab": {
          "base_uri": "https://localhost:8080/"
        },
        "id": "q8PtC1NZ4MKQ",
        "outputId": "94f08bfc-2ab3-4666-b59a-217a3b67c9e8"
      },
      "execution_count": null,
      "outputs": [
        {
          "output_type": "stream",
          "name": "stdout",
          "text": [
            "\n",
            "List: [1, 2, 4.5, (3+4j), True, 'jay']\n",
            "Tuple: ('Ajay', 'Rahul', True, 'jay')\n",
            "Dictionary: {'Name': 'jay', 'Age': 27}\n",
            "\n"
          ]
        }
      ]
    },
    {
      "cell_type": "markdown",
      "source": [
        "**27. Write a code to create a list of 5 random numbers between 1 and 100, sort it in ascending order, and print the result.(replaced)**"
      ],
      "metadata": {
        "id": "FBi0ZOC24fb0"
      }
    },
    {
      "cell_type": "code",
      "source": [
        "import random\n",
        "\n",
        "#create a empty list\n",
        "Ramdom_Numbers = []\n",
        "\n",
        "# Generate 5 random numbers between 1 and 100\n",
        "for i in range(5):\n",
        "    Ramdom_Numbers.append(random.randint(1, 100))\n",
        "\n",
        "#sort the list in ascending order\n",
        "Ramdom_Numbers.sort()\n",
        "\n",
        "print(Ramdom_Numbers)"
      ],
      "metadata": {
        "colab": {
          "base_uri": "https://localhost:8080/"
        },
        "id": "05wfAMx35JVj",
        "outputId": "04791722-a422-406e-e09a-1851b8440ea6"
      },
      "execution_count": null,
      "outputs": [
        {
          "output_type": "stream",
          "name": "stdout",
          "text": [
            "[28, 29, 55, 58, 97]\n"
          ]
        }
      ]
    },
    {
      "cell_type": "markdown",
      "source": [
        "**28. Write a code to create a list with strings and print the element at the third index.**"
      ],
      "metadata": {
        "id": "apVZ6cK65RCF"
      }
    },
    {
      "cell_type": "code",
      "source": [
        "List = [\"sonu\", \"soma\", \"jay\" , \"sathi\"]\n",
        "\n",
        "# Print the element at the third index (index starts from 0)\n",
        "Third_Index = List[3]\n",
        "print(\"Third_Index:\" ,Third_Index)"
      ],
      "metadata": {
        "colab": {
          "base_uri": "https://localhost:8080/"
        },
        "id": "-R3T2k1j5UXS",
        "outputId": "2cd25da6-aca6-4c09-a2d3-fd04e5c21874"
      },
      "execution_count": null,
      "outputs": [
        {
          "output_type": "stream",
          "name": "stdout",
          "text": [
            "Third_Index: sathi\n"
          ]
        }
      ]
    },
    {
      "cell_type": "markdown",
      "source": [
        "**29. Write a code to combine two dictionaries into one and print the result.**"
      ],
      "metadata": {
        "id": "ZFomieK_5lwF"
      }
    },
    {
      "cell_type": "code",
      "source": [
        "Dictionary1 = {\"Name\": \"jay\", \"Age\" : 27}\n",
        "Dictionary2 = {\"Name1\": \"sathi\", \"Age1\" : 21}\n",
        "\n",
        "#combine two dictionaries into one\n",
        "Dictionary1.update(Dictionary2)\n",
        "print(\"Dictionary1:\", Dictionary1)"
      ],
      "metadata": {
        "colab": {
          "base_uri": "https://localhost:8080/"
        },
        "id": "SpSWi7mT5skB",
        "outputId": "1dcef5cc-e615-4e1e-f14b-aec33667e024"
      },
      "execution_count": null,
      "outputs": [
        {
          "output_type": "stream",
          "name": "stdout",
          "text": [
            "Dictionary1: {'Name': 'jay', 'Age': 27, 'Name1': 'sathi', 'Age1': 21}\n"
          ]
        }
      ]
    },
    {
      "cell_type": "markdown",
      "source": [
        "**30. Write a code to convert a list of strings into a set.**"
      ],
      "metadata": {
        "id": "G23QFOOV58jk"
      }
    },
    {
      "cell_type": "code",
      "source": [
        "My_List = [\"jay\", \"sathi\", \"Soma\" , \"priyanka\"]\n",
        "\n",
        "#convert a list of strings into a set\n",
        "Set = set(My_List)\n",
        "print(\"My_List_covnert_into_Set:\", Set)"
      ],
      "metadata": {
        "colab": {
          "base_uri": "https://localhost:8080/"
        },
        "id": "96Eokgk46DKq",
        "outputId": "5f64d68c-ed1c-4963-cacf-4614a4231b8c"
      },
      "execution_count": null,
      "outputs": [
        {
          "output_type": "stream",
          "name": "stdout",
          "text": [
            "My_List_covnert_into_Set: {'jay', 'priyanka', 'Soma', 'sathi'}\n"
          ]
        }
      ]
    }
  ]
}